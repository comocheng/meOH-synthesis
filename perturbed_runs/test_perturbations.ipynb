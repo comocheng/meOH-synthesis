{
 "cells": [
  {
   "cell_type": "markdown",
   "id": "e83596f4",
   "metadata": {},
   "source": [
    "# testing perturbations in correllated uncertainty"
   ]
  },
  {
   "cell_type": "code",
   "execution_count": 227,
   "id": "0a59338c",
   "metadata": {},
   "outputs": [],
   "source": [
    "import cantera as ct\n",
    "import numpy as np\n",
    "from torch.quasirandom import SobolEngine\n",
    "from rmgpy.data.thermo import ThermoDatabase\n",
    "from IPython.display import Image\n",
    "import seaborn as sns\n",
    "\n",
    "sns.set_palette('Dark2')"
   ]
  },
  {
   "cell_type": "code",
   "execution_count": 187,
   "id": "8858bddc",
   "metadata": {},
   "outputs": [],
   "source": [
    "DELTA_E0_MAX_J_MOL = 30000\n",
    "DELTA_E0_MAX_J_MOL_VDW = 20000"
   ]
  },
  {
   "cell_type": "markdown",
   "id": "05cf27cf",
   "metadata": {},
   "source": [
    "## sobol sequence testing"
   ]
  },
  {
   "cell_type": "code",
   "execution_count": 188,
   "id": "cb30d82c",
   "metadata": {},
   "outputs": [],
   "source": [
    "# Create the pseudo randoms\n",
    "N = 5000\n",
    "sobol = SobolEngine(dimension=80, scramble=True, seed=100)\n",
    "x_sobol = sobol.draw(N)"
   ]
  },
  {
   "cell_type": "markdown",
   "id": "f5489300",
   "metadata": {},
   "source": [
    "### get perturbed values so we know we are applying them correctly"
   ]
  },
  {
   "cell_type": "code",
   "execution_count": 189,
   "id": "e29601bc",
   "metadata": {},
   "outputs": [
    {
     "name": "stdout",
     "output_type": "stream",
     "text": [
      "C: 0.08625526936848958\n",
      "O: -0.29157967122395834\n",
      "H: 0.0291429443359375\n",
      "Vdw: 0.14007698567708332\n",
      "N: 0.041631917317708336\n"
     ]
    }
   ],
   "source": [
    "pert = 3\n",
    "E_0_c = float(DELTA_E0_MAX_J_MOL - 2.0 * x_sobol[pert,0] * DELTA_E0_MAX_J_MOL)/9.6e4\n",
    "E_0_o = float(DELTA_E0_MAX_J_MOL - 2.0 * x_sobol[pert,1] * DELTA_E0_MAX_J_MOL)/9.6e4\n",
    "E_0_h = float(DELTA_E0_MAX_J_MOL - 2.0 * x_sobol[pert,2] * DELTA_E0_MAX_J_MOL)/9.6e4\n",
    "E_0_vdw = float(DELTA_E0_MAX_J_MOL_VDW  - 2.0 * x_sobol[pert, 3] * DELTA_E0_MAX_J_MOL_VDW)/9.6e4\n",
    "E_0_n = float(DELTA_E0_MAX_J_MOL - 2.0 * x_sobol[pert,4] * DELTA_E0_MAX_J_MOL)/9.6e4\n",
    "\n",
    "print(f\"C: {E_0_c}\\nO: {E_0_o}\\nH: {E_0_h}\\nVdw: {E_0_vdw}\\nN: {E_0_n}\")"
   ]
  },
  {
   "cell_type": "markdown",
   "id": "d7ad67ee",
   "metadata": {},
   "source": [
    "### Pt Library base"
   ]
  },
  {
   "cell_type": "code",
   "execution_count": 190,
   "id": "707fa9a2",
   "metadata": {},
   "outputs": [],
   "source": [
    "rmg_thermo_pt111 = ThermoDatabase()\n",
    "library_path = \"/scratch/westgroup/methanol/perturb_5000_correllated/RMG-database/input/thermo/\"\n",
    "thermo_libraries = [\"surfaceThermoPt111\"]\n",
    "rmg_thermo_pt111.load(\n",
    "    library_path,\n",
    "    libraries=thermo_libraries,\n",
    "    depository=False,\n",
    "    surface=True)\n",
    "thermo_pt_base = rmg_thermo_pt111.libraries[\"surfaceThermoPt111\"]"
   ]
  },
  {
   "cell_type": "markdown",
   "id": "11d4506c",
   "metadata": {},
   "source": [
    "### Pt perturbed library"
   ]
  },
  {
   "cell_type": "code",
   "execution_count": 195,
   "id": "608a7703",
   "metadata": {},
   "outputs": [],
   "source": [
    "perturb = f\"000{pert}\"\n",
    "rmg_thermo_pt111_0001 = ThermoDatabase()\n",
    "library_path = f\"/scratch/westgroup/methanol/perturb_5000_correllated/db_{perturb}/input/thermo/\"\n",
    "thermo_libraries = [f\"surfaceThermoPt111\"]\n",
    "\n",
    "rmg_thermo_pt111_0001.load(\n",
    "    library_path,\n",
    "    libraries=thermo_libraries,\n",
    "    depository=False,\n",
    "    surface=True)\n",
    "thermo_pt_0001 = rmg_thermo_pt111_0001.libraries[f\"surfaceThermoPt111\"]\n"
   ]
  },
  {
   "cell_type": "code",
   "execution_count": 192,
   "id": "d39629f4",
   "metadata": {},
   "outputs": [],
   "source": [
    "thermo = thermo_pt_base"
   ]
  },
  {
   "cell_type": "markdown",
   "id": "c59d2cd4",
   "metadata": {},
   "source": [
    "### compare Pt lib values"
   ]
  },
  {
   "cell_type": "code",
   "execution_count": 193,
   "id": "07e274ca",
   "metadata": {},
   "outputs": [
    {
     "data": {
      "text/plain": [
       "OrderedDict([('vacant', <Entry index=1 label=\"vacant\">),\n",
       "             ('H_ads', <Entry index=2 label=\"H_ads\">),\n",
       "             ('H2_ads', <Entry index=3 label=\"H2_ads\">),\n",
       "             ('H2O_ads', <Entry index=4 label=\"H2O_ads\">),\n",
       "             ('OH_ads', <Entry index=5 label=\"OH_ads\">),\n",
       "             ('HO-OH_ads', <Entry index=6 label=\"HO-OH_ads\">),\n",
       "             ('O2_ads', <Entry index=7 label=\"O2_ads\">),\n",
       "             ('OOH_ads', <Entry index=8 label=\"OOH_ads\">),\n",
       "             ('O_ads', <Entry index=9 label=\"O_ads\">),\n",
       "             ('O-NH2_ads', <Entry index=10 label=\"O-NH2_ads\">),\n",
       "             ('O-CH3_ads', <Entry index=11 label=\"O-CH3_ads\">),\n",
       "             ('NH3_ads', <Entry index=12 label=\"NH3_ads\">),\n",
       "             ('NH2_ads', <Entry index=13 label=\"NH2_ads\">),\n",
       "             ('NH_ads', <Entry index=14 label=\"NH_ads\">),\n",
       "             ('N_ads', <Entry index=15 label=\"N_ads\">),\n",
       "             ('H2N-OH_ads', <Entry index=16 label=\"H2N-OH_ads\">),\n",
       "             ('HN-O_ads', <Entry index=17 label=\"HN-O_ads\">),\n",
       "             ('HN-OH_ads', <Entry index=18 label=\"HN-OH_ads\">),\n",
       "             ('NO_ads', <Entry index=19 label=\"NO_ads\">),\n",
       "             ('NO-h_ads', <Entry index=20 label=\"NO-h_ads\">),\n",
       "             ('NOH_ads', <Entry index=21 label=\"NOH_ads\">),\n",
       "             ('H2N-NH2_ads', <Entry index=22 label=\"H2N-NH2_ads\">),\n",
       "             ('HN-NH_ads', <Entry index=23 label=\"HN-NH_ads\">),\n",
       "             ('NN_ads', <Entry index=24 label=\"NN_ads\">),\n",
       "             ('HN-NH2_ads', <Entry index=25 label=\"HN-NH2_ads\">),\n",
       "             ('N-NH_ads', <Entry index=26 label=\"N-NH_ads\">),\n",
       "             ('N-NH2_ads', <Entry index=27 label=\"N-NH2_ads\">),\n",
       "             ('HN-NH-h_ads', <Entry index=28 label=\"HN-NH-h_ads\">),\n",
       "             ('HN-N-h_ads', <Entry index=29 label=\"HN-N-h_ads\">),\n",
       "             ('HN-CH3_ads', <Entry index=30 label=\"HN-CH3_ads\">),\n",
       "             ('N-CH2_ads', <Entry index=31 label=\"N-CH2_ads\">),\n",
       "             ('N-CH3_ads', <Entry index=32 label=\"N-CH3_ads\">),\n",
       "             ('C_ads', <Entry index=34 label=\"C_ads\">),\n",
       "             ('C-C_ads', <Entry index=35 label=\"C-C_ads\">),\n",
       "             ('C-CH2_ads', <Entry index=36 label=\"C-CH2_ads\">),\n",
       "             ('C-CH3_ads', <Entry index=37 label=\"C-CH3_ads\">),\n",
       "             ('CH_ads', <Entry index=38 label=\"CH_ads\">),\n",
       "             ('CH-CH_ads', <Entry index=39 label=\"CH-CH_ads\">),\n",
       "             ('CH-CH-vdw_ads', <Entry index=40 label=\"CH-CH-vdw_ads\">),\n",
       "             ('CH2_ads', <Entry index=41 label=\"CH2_ads\">),\n",
       "             ('CH2-CH2_ads', <Entry index=42 label=\"CH2-CH2_ads\">),\n",
       "             ('CH3_ads', <Entry index=43 label=\"CH3_ads\">),\n",
       "             ('CH3-CH3_ads', <Entry index=44 label=\"CH3-CH3_ads\">),\n",
       "             ('CH4_ads', <Entry index=45 label=\"CH4_ads\">),\n",
       "             ('CN_ads', <Entry index=46 label=\"CN_ads\">),\n",
       "             ('CNH_ads', <Entry index=47 label=\"CNH_ads\">),\n",
       "             ('CNH2_ads', <Entry index=48 label=\"CNH2_ads\">),\n",
       "             ('CO-f_ads', <Entry index=49 label=\"CO-f_ads\">),\n",
       "             ('COH_ads', <Entry index=50 label=\"COH_ads\">),\n",
       "             ('H2C-CH_ads', <Entry index=51 label=\"H2C-CH_ads\">),\n",
       "             ('H2C-CH3_ads', <Entry index=52 label=\"H2C-CH3_ads\">),\n",
       "             ('H2C-NH_ads', <Entry index=53 label=\"H2C-NH_ads\">),\n",
       "             ('H2C-NH2_ads', <Entry index=54 label=\"H2C-NH2_ads\">),\n",
       "             ('H2C-O_ads', <Entry index=55 label=\"H2C-O_ads\">),\n",
       "             ('H2C-OH_ads', <Entry index=56 label=\"H2C-OH_ads\">),\n",
       "             ('H2CN-h_ads', <Entry index=57 label=\"H2CN-h_ads\">),\n",
       "             ('H2CNH-h_ads', <Entry index=58 label=\"H2CNH-h_ads\">),\n",
       "             ('H3C-NH2_ads', <Entry index=59 label=\"H3C-NH2_ads\">),\n",
       "             ('H3C-OH_ads', <Entry index=60 label=\"H3C-OH_ads\">),\n",
       "             ('HC-C_ads', <Entry index=61 label=\"HC-C_ads\">),\n",
       "             ('HC-CH3_ads', <Entry index=63 label=\"HC-CH3_ads\">),\n",
       "             ('HCN_ads', <Entry index=64 label=\"HCN_ads\">),\n",
       "             ('HCN-h_ads', <Entry index=65 label=\"HCN-h_ads\">),\n",
       "             ('HCNH_ads', <Entry index=66 label=\"HCNH_ads\">),\n",
       "             ('HCNH-h_ads', <Entry index=67 label=\"HCNH-h_ads\">),\n",
       "             ('HCNH2_ads', <Entry index=68 label=\"HCNH2_ads\">),\n",
       "             ('HCO_ads', <Entry index=69 label=\"HCO_ads\">),\n",
       "             ('HCO-h_ads', <Entry index=70 label=\"HCO-h_ads\">),\n",
       "             ('HCOH_ads', <Entry index=71 label=\"HCOH_ads\">),\n",
       "             ('H2CO-h_ads', <Entry index=72 label=\"H2CO-h_ads\">),\n",
       "             ('HOCO_ads', <Entry index=73 label=\"HOCO_ads\">),\n",
       "             ('CO2_ads', <Entry index=74 label=\"CO2_ads\">),\n",
       "             ('HCOO_ads', <Entry index=75 label=\"HCOO_ads\">)])"
      ]
     },
     "execution_count": 193,
     "metadata": {},
     "output_type": "execute_result"
    }
   ],
   "source": [
    "thermo_pt_base.entries"
   ]
  },
  {
   "cell_type": "markdown",
   "id": "3fa64808",
   "metadata": {},
   "source": [
    "#### vdw"
   ]
  },
  {
   "cell_type": "code",
   "execution_count": 196,
   "id": "84bceda0",
   "metadata": {},
   "outputs": [
    {
     "data": {
      "image/png": "[encoded data removed]",
      "text/plain": [
       "<IPython.core.display.Image object>"
      ]
     },
     "metadata": {},
     "output_type": "display_data"
    },
    {
     "name": "stdout",
     "output_type": "stream",
     "text": [
      "original in eV:  -0.06109337939279112\n",
      "perturbed in eV:  0.07898356190421564\n",
      "perturbation in eV:  0.14007694129700676\n"
     ]
    }
   ],
   "source": [
    "species = \"H2_ads\"\n",
    "file = species + \".png\"\n",
    "thermo.entries[species].item.draw(file)\n",
    "display((Image(filename=file)))\n",
    "\n",
    "h1 = thermo_pt_base.entries[species].data.get_enthalpy(298)\n",
    "h2 = thermo_pt_0001.entries[species].data.get_enthalpy(298)\n",
    "\n",
    "print(\"original in eV: \",(h1/9.6e4))\n",
    "print(\"perturbed in eV: \",(h2/9.6e4))\n",
    "print(\"perturbation in eV: \",(h2-h1)/9.6e4)"
   ]
  },
  {
   "cell_type": "code",
   "execution_count": 197,
   "id": "9e1734f5",
   "metadata": {},
   "outputs": [
    {
     "data": {
      "image/png": "[encoded data removed]",
      "text/plain": [
       "<IPython.core.display.Image object>"
      ]
     },
     "metadata": {},
     "output_type": "display_data"
    },
    {
     "name": "stdout",
     "output_type": "stream",
     "text": [
      "original in eV:  -263.45573733153225\n",
      "perturbed in eV:  -2.6042538106434168\n",
      "perturbation in eV:  0.14007678656004402\n"
     ]
    }
   ],
   "source": [
    "species = \"H2O_ads\"\n",
    "file = species + \".png\"\n",
    "thermo.entries[species].item.draw(file)\n",
    "display((Image(filename=file)))\n",
    "\n",
    "h1 = thermo_pt_base.entries[species].data.get_enthalpy(298)\n",
    "h2 = thermo_pt_0001.entries[species].data.get_enthalpy(298)\n",
    "\n",
    "print(\"original in eV: \",(h1)/1e3)\n",
    "print(\"perturbed in eV: \",(h2/9.6e4))\n",
    "print(\"perturbation in eV: \",(h2-h1)/9.6e4)\n",
    "vdw_perturb = (h2-h1)/9.6e4"
   ]
  },
  {
   "cell_type": "markdown",
   "id": "64745ea7",
   "metadata": {},
   "source": [
    "same for vdw species"
   ]
  },
  {
   "cell_type": "markdown",
   "id": "4949a0c4",
   "metadata": {},
   "source": [
    "#### carbon"
   ]
  },
  {
   "cell_type": "code",
   "execution_count": 198,
   "id": "a9aeb854",
   "metadata": {},
   "outputs": [
    {
     "data": {
      "image/png": "[encoded data removed]",
      "text/plain": [
       "<IPython.core.display.Image object>"
      ]
     },
     "metadata": {},
     "output_type": "display_data"
    },
    {
     "name": "stdout",
     "output_type": "stream",
     "text": [
      "perturbation in eV:  0.08625542086173073\n"
     ]
    }
   ],
   "source": [
    "species = \"CH_ads\"\n",
    "file = species + \".png\"\n",
    "thermo.entries[species].item.draw(file)\n",
    "display((Image(filename=file)))\n",
    "\n",
    "h1 = thermo_pt_base.entries[species].data.get_enthalpy(298)\n",
    "h2 = thermo_pt_0001.entries[species].data.get_enthalpy(298)\n",
    "\n",
    "print(\"perturbation in eV: \",(h2-h1)/9.6e4)"
   ]
  },
  {
   "cell_type": "code",
   "execution_count": 199,
   "id": "972c5b98",
   "metadata": {},
   "outputs": [
    {
     "data": {
      "image/png": "[encoded data removed]",
      "text/plain": [
       "<IPython.core.display.Image object>"
      ]
     },
     "metadata": {},
     "output_type": "display_data"
    },
    {
     "name": "stdout",
     "output_type": "stream",
     "text": [
      "perturbation in eV:  0.08625498309107049\n"
     ]
    }
   ],
   "source": [
    "species = \"C-CH2_ads\"\n",
    "file = species + \".png\"\n",
    "thermo.entries[species].item.draw(file)\n",
    "display((Image(filename=file)))\n",
    "\n",
    "h1 = thermo_pt_base.entries[species].data.get_enthalpy(298)\n",
    "h2 = thermo_pt_0001.entries[species].data.get_enthalpy(298)\n",
    "\n",
    "print(\"perturbation in eV: \",(h2-h1)/9.6e4)\n",
    "\n",
    "c_perturb = (h2-h1)/9.6e4"
   ]
  },
  {
   "cell_type": "markdown",
   "id": "6fbd6ec2",
   "metadata": {},
   "source": [
    "same for carbon species"
   ]
  },
  {
   "cell_type": "markdown",
   "id": "e76eae17",
   "metadata": {},
   "source": [
    "#### oxygen"
   ]
  },
  {
   "cell_type": "code",
   "execution_count": 224,
   "id": "86cddcc9",
   "metadata": {},
   "outputs": [
    {
     "data": {
      "image/png": "[encoded data removed]",
      "text/plain": [
       "<IPython.core.display.Image object>"
      ]
     },
     "metadata": {},
     "output_type": "display_data"
    },
    {
     "name": "stdout",
     "output_type": "stream",
     "text": [
      "perturbation in eV:  -0.2915761136760554\n"
     ]
    },
    {
     "data": {
      "text/plain": [
       "-1.4634416446064724"
      ]
     },
     "execution_count": 224,
     "metadata": {},
     "output_type": "execute_result"
    }
   ],
   "source": [
    "species = \"O_ads\"\n",
    "file = species + \".png\"\n",
    "thermo.entries[species].item.draw(file)\n",
    "display((Image(filename=file)))\n",
    "\n",
    "h1 = thermo_pt_base.entries[species].data.get_enthalpy(298)\n",
    "h2 = thermo_pt_0001.entries[species].data.get_enthalpy(298)\n",
    "\n",
    "print(\"perturbation in eV: \",(h2-h1)/9.6e4)\n",
    "h1/9.6e4"
   ]
  },
  {
   "cell_type": "code",
   "execution_count": 201,
   "id": "0522c193",
   "metadata": {},
   "outputs": [
    {
     "data": {
      "image/png": "[encoded data removed]",
      "text/plain": [
       "<IPython.core.display.Image object>"
      ]
     },
     "metadata": {},
     "output_type": "display_data"
    },
    {
     "name": "stdout",
     "output_type": "stream",
     "text": [
      "perturbation in eV:  -0.2915819416264606\n"
     ]
    }
   ],
   "source": [
    "species = \"OOH_ads\"\n",
    "file = species + \".png\"\n",
    "thermo.entries[species].item.draw(file)\n",
    "display((Image(filename=file)))\n",
    "\n",
    "h1 = thermo_pt_base.entries[species].data.get_enthalpy(298)\n",
    "h2 = thermo_pt_0001.entries[species].data.get_enthalpy(298)\n",
    "\n",
    "print(\"perturbation in eV: \",(h2-h1)/9.6e4)"
   ]
  },
  {
   "cell_type": "code",
   "execution_count": 202,
   "id": "4f88f528",
   "metadata": {},
   "outputs": [
    {
     "data": {
      "image/png": "[encoded data removed]",
      "text/plain": [
       "<IPython.core.display.Image object>"
      ]
     },
     "metadata": {},
     "output_type": "display_data"
    },
    {
     "name": "stdout",
     "output_type": "stream",
     "text": [
      "perturbation in eV:  -0.29158034608942035\n"
     ]
    }
   ],
   "source": [
    "species = \"O-CH3_ads\"\n",
    "file = species + \".png\"\n",
    "thermo.entries[species].item.draw(file)\n",
    "display((Image(filename=file)))\n",
    "\n",
    "h1 = thermo_pt_base.entries[species].data.get_enthalpy(298)\n",
    "h2 = thermo_pt_0001.entries[species].data.get_enthalpy(298)\n",
    "\n",
    "print(\"perturbation in eV: \",(h2-h1)/9.6e4)\n",
    "\n",
    "o_perturb = (h2-h1)/9.6e4"
   ]
  },
  {
   "cell_type": "markdown",
   "id": "c521396f",
   "metadata": {},
   "source": [
    "#### hydrogen (only one)"
   ]
  },
  {
   "cell_type": "code",
   "execution_count": 203,
   "id": "01e6b446",
   "metadata": {},
   "outputs": [
    {
     "data": {
      "image/png": "[encoded data removed]",
      "text/plain": [
       "<IPython.core.display.Image object>"
      ]
     },
     "metadata": {},
     "output_type": "display_data"
    },
    {
     "name": "stdout",
     "output_type": "stream",
     "text": [
      "perturbation in eV:  0.029143222787157773\n"
     ]
    }
   ],
   "source": [
    "species = \"H_ads\"\n",
    "file = species + \".png\"\n",
    "thermo.entries[species].item.draw(file)\n",
    "display((Image(filename=file)))\n",
    "\n",
    "h1 = thermo_pt_base.entries[species].data.get_enthalpy(298)\n",
    "h2 = thermo_pt_0001.entries[species].data.get_enthalpy(298)\n",
    "\n",
    "print(\"perturbation in eV: \",(h2-h1)/9.6e4)"
   ]
  },
  {
   "cell_type": "markdown",
   "id": "5dcba278",
   "metadata": {},
   "source": [
    "### bidentates"
   ]
  },
  {
   "cell_type": "code",
   "execution_count": 204,
   "id": "f21b9f1b",
   "metadata": {},
   "outputs": [
    {
     "data": {
      "image/png": "[encoded data removed]",
      "text/plain": [
       "<IPython.core.display.Image object>"
      ]
     },
     "metadata": {},
     "output_type": "display_data"
    },
    {
     "name": "stdout",
     "output_type": "stream",
     "text": [
      "perturbation in eV:  0.1725101765223332\n"
     ]
    }
   ],
   "source": [
    "species = \"CH-CH_ads\"\n",
    "file = species + \".png\"\n",
    "thermo.entries[species].item.draw(file)\n",
    "display((Image(filename=file)))\n",
    "\n",
    "h1 = thermo_pt_base.entries[species].data.get_enthalpy(298)\n",
    "h2 = thermo_pt_0001.entries[species].data.get_enthalpy(298)\n",
    "\n",
    "print(\"perturbation in eV: \",(h2-h1)/9.6e4)"
   ]
  },
  {
   "cell_type": "code",
   "execution_count": 205,
   "id": "90eda7a2",
   "metadata": {},
   "outputs": [
    {
     "data": {
      "text/plain": [
       "0.17250996618214098"
      ]
     },
     "execution_count": 205,
     "metadata": {},
     "output_type": "execute_result"
    }
   ],
   "source": [
    "c_perturb*2"
   ]
  },
  {
   "cell_type": "code",
   "execution_count": 206,
   "id": "9be8d5ec",
   "metadata": {},
   "outputs": [
    {
     "data": {
      "image/png": "[encoded data removed]",
      "text/plain": [
       "<IPython.core.display.Image object>"
      ]
     },
     "metadata": {},
     "output_type": "display_data"
    },
    {
     "name": "stdout",
     "output_type": "stream",
     "text": [
      "perturbation in eV:  -0.2053283180984017\n"
     ]
    }
   ],
   "source": [
    "species = \"HCO-h_ads\"\n",
    "file = species + \".png\"\n",
    "thermo.entries[species].item.draw(file)\n",
    "display((Image(filename=file)))\n",
    "\n",
    "h1 = thermo_pt_base.entries[species].data.get_enthalpy(298)\n",
    "h2 = thermo_pt_0001.entries[species].data.get_enthalpy(298)\n",
    "\n",
    "print(\"perturbation in eV: \",(h2-h1)/9.6e4)"
   ]
  },
  {
   "cell_type": "code",
   "execution_count": 207,
   "id": "e04be549",
   "metadata": {},
   "outputs": [
    {
     "data": {
      "text/plain": [
       "-0.20532536299834986"
      ]
     },
     "execution_count": 207,
     "metadata": {},
     "output_type": "execute_result"
    }
   ],
   "source": [
    "c_perturb+o_perturb"
   ]
  },
  {
   "cell_type": "markdown",
   "id": "cbdaa386",
   "metadata": {},
   "source": [
    "### test groups"
   ]
  },
  {
   "cell_type": "code",
   "execution_count": 208,
   "id": "e55d0b86",
   "metadata": {},
   "outputs": [
    {
     "data": {
      "text/plain": [
       "OrderedDict([('R*', <Entry index=0 label=\"R*\">),\n",
       "             ('R*bidentate', <Entry index=1 label=\"R*bidentate\">),\n",
       "             ('C*C*', <Entry index=2 label=\"C*C*\">),\n",
       "             ('C-*C-*', <Entry index=3 label=\"C-*C-*\">),\n",
       "             ('C=*RC=*R', <Entry index=4 label=\"C=*RC=*R\">),\n",
       "             ('C-*R2C-*R2', <Entry index=5 label=\"C-*R2C-*R2\">),\n",
       "             ('C-*R2C=*R', <Entry index=6 label=\"C-*R2C=*R\">),\n",
       "             ('C-*RC=*', <Entry index=7 label=\"C-*RC=*\">),\n",
       "             ('C*N*', <Entry index=8 label=\"C*N*\">),\n",
       "             ('C-*R2N=*', <Entry index=9 label=\"C-*R2N=*\">),\n",
       "             ('C-*R2N-*R', <Entry index=10 label=\"C-*R2N-*R\">),\n",
       "             ('C=*N-*', <Entry index=11 label=\"C=*N-*\">),\n",
       "             ('C=*RN=*', <Entry index=12 label=\"C=*RN=*\">),\n",
       "             ('C=*RN-*R', <Entry index=13 label=\"C=*RN-*R\">),\n",
       "             ('C*O*', <Entry index=14 label=\"C*O*\">),\n",
       "             ('C=*RO-*', <Entry index=15 label=\"C=*RO-*\">),\n",
       "             ('C-*R2O-*', <Entry index=16 label=\"C-*R2O-*\">),\n",
       "             ('N*N*', <Entry index=17 label=\"N*N*\">),\n",
       "             ('N-*RN-*R', <Entry index=18 label=\"N-*RN-*R\">),\n",
       "             ('N-*RN=*', <Entry index=19 label=\"N-*RN=*\">),\n",
       "             ('N*O*', <Entry index=20 label=\"N*O*\">),\n",
       "             ('N=*O-*', <Entry index=21 label=\"N=*O-*\">),\n",
       "             ('O*O*', <Entry index=22 label=\"O*O*\">),\n",
       "             ('R*single_chemisorbed',\n",
       "              <Entry index=23 label=\"R*single_chemisorbed\">),\n",
       "             ('C*', <Entry index=24 label=\"C*\">),\n",
       "             ('Cq*', <Entry index=25 label=\"Cq*\">),\n",
       "             ('C#*R', <Entry index=26 label=\"C#*R\">),\n",
       "             ('C#*CR3', <Entry index=27 label=\"C#*CR3\">),\n",
       "             ('C#*NR2', <Entry index=28 label=\"C#*NR2\">),\n",
       "             ('C#*OR', <Entry index=29 label=\"C#*OR\">),\n",
       "             ('C=*R2', <Entry index=30 label=\"C=*R2\">),\n",
       "             ('C=*RCR3', <Entry index=31 label=\"C=*RCR3\">),\n",
       "             ('C=*RNR2', <Entry index=32 label=\"C=*RNR2\">),\n",
       "             ('C=*ROR', <Entry index=33 label=\"C=*ROR\">),\n",
       "             ('C=*(=R)', <Entry index=34 label=\"C=*(=R)\">),\n",
       "             ('C=*(=C)', <Entry index=35 label=\"C=*(=C)\">),\n",
       "             ('C=*(=NR)', <Entry index=36 label=\"C=*(=NR)\">),\n",
       "             ('C-*R3', <Entry index=37 label=\"C-*R3\">),\n",
       "             ('C-*R2CR3', <Entry index=38 label=\"C-*R2CR3\">),\n",
       "             ('C-*R2NR2', <Entry index=39 label=\"C-*R2NR2\">),\n",
       "             ('C-*R2OR', <Entry index=40 label=\"C-*R2OR\">),\n",
       "             ('C-*RCR2', <Entry index=41 label=\"C-*RCR2\">),\n",
       "             ('C-*RNR', <Entry index=42 label=\"C-*RNR\">),\n",
       "             ('C-*RO', <Entry index=43 label=\"C-*RO\">),\n",
       "             ('N*', <Entry index=44 label=\"N*\">),\n",
       "             ('N#*', <Entry index=45 label=\"N#*\">),\n",
       "             ('N=*R', <Entry index=46 label=\"N=*R\">),\n",
       "             ('N=*CR3', <Entry index=47 label=\"N=*CR3\">),\n",
       "             ('N=*NR2', <Entry index=48 label=\"N=*NR2\">),\n",
       "             ('N=*OR', <Entry index=49 label=\"N=*OR\">),\n",
       "             ('N-*R2', <Entry index=50 label=\"N-*R2\">),\n",
       "             ('N-*RCR3', <Entry index=51 label=\"N-*RCR3\">),\n",
       "             ('N-*RNR2', <Entry index=52 label=\"N-*RNR2\">),\n",
       "             ('N-*ROR', <Entry index=53 label=\"N-*ROR\">),\n",
       "             ('N-*CR2', <Entry index=54 label=\"N-*CR2\">),\n",
       "             ('N-*NR', <Entry index=55 label=\"N-*NR\">),\n",
       "             ('N-*O', <Entry index=56 label=\"N-*O\">),\n",
       "             ('O*', <Entry index=57 label=\"O*\">),\n",
       "             ('O=*', <Entry index=58 label=\"O=*\">),\n",
       "             ('O-*R', <Entry index=59 label=\"O-*R\">),\n",
       "             ('O-*CR3', <Entry index=60 label=\"O-*CR3\">),\n",
       "             ('O-*NR2', <Entry index=61 label=\"O-*NR2\">),\n",
       "             ('O-*OR', <Entry index=62 label=\"O-*OR\">),\n",
       "             ('R*vdW', <Entry index=63 label=\"R*vdW\">),\n",
       "             ('(CR4)*', <Entry index=64 label=\"(CR4)*\">),\n",
       "             ('(CR3CR3)*', <Entry index=65 label=\"(CR3CR3)*\">),\n",
       "             ('(CR3NR2)*', <Entry index=66 label=\"(CR3NR2)*\">),\n",
       "             ('(CR3OR)*', <Entry index=67 label=\"(CR3OR)*\">),\n",
       "             ('(CR3)*', <Entry index=68 label=\"(CR3)*\">),\n",
       "             ('(CR2NR)*', <Entry index=69 label=\"(CR2NR)*\">),\n",
       "             ('(CR2O)*', <Entry index=70 label=\"(CR2O)*\">),\n",
       "             ('(CR2)*', <Entry index=71 label=\"(CR2)*\">),\n",
       "             ('(CRN)*', <Entry index=72 label=\"(CRN)*\">),\n",
       "             ('(CRCR)*', <Entry index=73 label=\"(CRCR)*\">),\n",
       "             ('(NR3)*', <Entry index=74 label=\"(NR3)*\">),\n",
       "             ('(NR2NR2)*', <Entry index=75 label=\"(NR2NR2)*\">),\n",
       "             ('(NR2OR)*', <Entry index=76 label=\"(NR2OR)*\">),\n",
       "             ('(N=[O,N]R)*', <Entry index=77 label=\"(N=[O,N]R)*\">),\n",
       "             ('(NRO)*', <Entry index=78 label=\"(NRO)*\">),\n",
       "             ('(NRNR)*', <Entry index=79 label=\"(NRNR)*\">),\n",
       "             ('(OR2)*', <Entry index=80 label=\"(OR2)*\">),\n",
       "             ('(OROR)*', <Entry index=81 label=\"(OROR)*\">)])"
      ]
     },
     "execution_count": 208,
     "metadata": {},
     "output_type": "execute_result"
    }
   ],
   "source": [
    "rmg_thermo_pt111_0001.groups['adsorptionPt111'].entries"
   ]
  },
  {
   "cell_type": "markdown",
   "id": "ccaab4aa",
   "metadata": {},
   "source": [
    "carbon"
   ]
  },
  {
   "cell_type": "code",
   "execution_count": 209,
   "id": "97c519bb",
   "metadata": {},
   "outputs": [
    {
     "data": {
      "image/png": "[encoded data removed]",
      "text/plain": [
       "<IPython.core.display.Image object>"
      ]
     },
     "metadata": {},
     "output_type": "display_data"
    },
    {
     "name": "stdout",
     "output_type": "stream",
     "text": [
      "perturbation in eV:  0.08625141666666604\n",
      "library perturbation, Carbon:  0.08625498309107049\n"
     ]
    }
   ],
   "source": [
    "species = \"C#*R\"\n",
    "file = species + \".png\"\n",
    "with open(file, \"wb\") as img:\n",
    "    img.write(rmg_thermo_pt111_0001.groups['adsorptionPt111'].entries[species].item.draw('png'))\n",
    "    \n",
    "display((Image(filename=file)))\n",
    "\n",
    "h1 = rmg_thermo_pt111.groups['adsorptionPt111'].entries[species].data.H298.value_si\n",
    "h2 = rmg_thermo_pt111_0001.groups['adsorptionPt111'].entries[species].data.H298.value_si\n",
    "\n",
    "print(\"perturbation in eV: \",(h2-h1)/9.6e4)\n",
    "print(\"library perturbation, Carbon: \", c_perturb)"
   ]
  },
  {
   "cell_type": "code",
   "execution_count": 210,
   "id": "6a2e5939",
   "metadata": {},
   "outputs": [
    {
     "data": {
      "image/png": "[encoded data removed]",
      "text/plain": [
       "<IPython.core.display.Image object>"
      ]
     },
     "metadata": {},
     "output_type": "display_data"
    },
    {
     "name": "stdout",
     "output_type": "stream",
     "text": [
      "perturbation in eV:  -0.29158121666666675\n",
      "library perturbation, Oxygen:  -0.29158034608942035\n"
     ]
    }
   ],
   "source": [
    "species = \"O-*OR\"\n",
    "file = species + \".png\"\n",
    "with open(file, \"wb\") as img:\n",
    "    img.write(rmg_thermo_pt111_0001.groups['adsorptionPt111'].entries[species].item.draw('png'))\n",
    "    \n",
    "display((Image(filename=file)))\n",
    "\n",
    "h1 = rmg_thermo_pt111.groups['adsorptionPt111'].entries[species].data.H298.value_si\n",
    "h2 = rmg_thermo_pt111_0001.groups['adsorptionPt111'].entries[species].data.H298.value_si\n",
    "\n",
    "print(\"perturbation in eV: \",(h2-h1)/9.6e4)\n",
    "print(\"library perturbation, Oxygen: \", o_perturb)"
   ]
  },
  {
   "cell_type": "markdown",
   "id": "41c6a5b7",
   "metadata": {},
   "source": [
    "vdw"
   ]
  },
  {
   "cell_type": "code",
   "execution_count": 211,
   "id": "5b9c1432",
   "metadata": {},
   "outputs": [
    {
     "data": {
      "image/png": "[encoded data removed]",
      "text/plain": [
       "<IPython.core.display.Image object>"
      ]
     },
     "metadata": {},
     "output_type": "display_data"
    },
    {
     "name": "stdout",
     "output_type": "stream",
     "text": [
      "perturbation in eV:  0.1400768333333333\n",
      "library perturbation, vdW:  0.14007678656004402\n"
     ]
    }
   ],
   "source": [
    "species = \"(CRN)*\"\n",
    "file = species + \".png\"\n",
    "with open(file, \"wb\") as img:\n",
    "    img.write(rmg_thermo_pt111_0001.groups['adsorptionPt111'].entries[species].item.draw('png'))\n",
    "    \n",
    "display((Image(filename=file)))\n",
    "\n",
    "h1 = rmg_thermo_pt111.groups['adsorptionPt111'].entries[species].data.H298.value_si\n",
    "h2 = rmg_thermo_pt111_0001.groups['adsorptionPt111'].entries[species].data.H298.value_si\n",
    "\n",
    "print(\"perturbation in eV: \",(h2-h1)/9.6e4)\n",
    "print(\"library perturbation, vdW: \", vdw_perturb)"
   ]
  },
  {
   "cell_type": "markdown",
   "id": "8e5d5ef7",
   "metadata": {},
   "source": [
    "bidentate\n",
    "\n",
    "make sure we add perturbations per each bonded atom. probably not necessary since we don't have any in model"
   ]
  },
  {
   "cell_type": "code",
   "execution_count": 212,
   "id": "7aeb8d48",
   "metadata": {},
   "outputs": [
    {
     "data": {
      "image/png": "[encoded data removed]",
      "text/plain": [
       "<IPython.core.display.Image object>"
      ]
     },
     "metadata": {},
     "output_type": "display_data"
    },
    {
     "name": "stdout",
     "output_type": "stream",
     "text": [
      "perturbation in eV:  0.1725028333333333\n",
      "perturbation from each bound c 0.17250996618214098\n"
     ]
    }
   ],
   "source": [
    "species = \"C-*RC=*\"\n",
    "file = species + \".png\"\n",
    "with open(file, \"wb\") as img:\n",
    "    img.write(rmg_thermo_pt111_0001.groups['adsorptionPt111'].entries[species].item.draw('png'))\n",
    "    \n",
    "display((Image(filename=file)))\n",
    "\n",
    "h1 = rmg_thermo_pt111.groups['adsorptionPt111'].entries[species].data.H298.value_si\n",
    "h2 = rmg_thermo_pt111_0001.groups['adsorptionPt111'].entries[species].data.H298.value_si\n",
    "\n",
    "print(\"perturbation in eV: \",(h2-h1)/9.6e4)\n",
    "print(\"perturbation from each bound c\", c_perturb*2)"
   ]
  },
  {
   "cell_type": "markdown",
   "id": "04d09686",
   "metadata": {},
   "source": [
    "averaged\n",
    "\n",
    "make sure that R\\*bidentate and R\\*single_chemisorbed are averaged properly"
   ]
  },
  {
   "cell_type": "code",
   "execution_count": 213,
   "id": "f83390cc",
   "metadata": {},
   "outputs": [
    {
     "data": {
      "image/png": "[encoded data removed]",
      "text/plain": [
       "<IPython.core.display.Image object>"
      ]
     },
     "metadata": {},
     "output_type": "display_data"
    },
    {
     "name": "stdout",
     "output_type": "stream",
     "text": [
      "perturbation in eV:  0.15019688333333336\n",
      "perturbation avg from C*3 and N in eV:  0.15019886271158853\n"
     ]
    }
   ],
   "source": [
    "species = \"R*bidentate\"\n",
    "file = species + \".png\"\n",
    "with open(file, \"wb\") as img:\n",
    "    img.write(rmg_thermo_pt111_0001.groups['adsorptionPt111'].entries[species].item.draw('png'))\n",
    "    \n",
    "display((Image(filename=file)))\n",
    "\n",
    "h1 = rmg_thermo_pt111.groups['adsorptionPt111'].entries[species].data.H298.value_si\n",
    "h2 = rmg_thermo_pt111_0001.groups['adsorptionPt111'].entries[species].data.H298.value_si\n",
    "\n",
    "print(\"perturbation in eV: \",(h2-h1)/9.6e4)\n",
    "print(\"perturbation avg from C*3 and N in eV: \",np.average([E_0_c, E_0_c,E_0_c,E_0_n])*2)"
   ]
  },
  {
   "cell_type": "code",
   "execution_count": 214,
   "id": "770f7a0f",
   "metadata": {},
   "outputs": [
    {
     "data": {
      "image/png": "[encoded data removed]",
      "text/plain": [
       "<IPython.core.display.Image object>"
      ]
     },
     "metadata": {},
     "output_type": "display_data"
    },
    {
     "name": "stdout",
     "output_type": "stream",
     "text": [
      "perturbation in eV:  -0.05456197499999992\n",
      "perturbation avg from C*3 and N in eV:  -0.054564161512586806\n"
     ]
    }
   ],
   "source": [
    "species = \"R*single_chemisorbed\"\n",
    "file = species + \".png\"\n",
    "with open(file, \"wb\") as img:\n",
    "    img.write(rmg_thermo_pt111_0001.groups['adsorptionPt111'].entries[species].item.draw('png'))\n",
    "    \n",
    "display((Image(filename=file)))\n",
    "\n",
    "h1 = rmg_thermo_pt111.groups['adsorptionPt111'].entries[species].data.H298.value_si\n",
    "h2 = rmg_thermo_pt111_0001.groups['adsorptionPt111'].entries[species].data.H298.value_si\n",
    "\n",
    "print(\"perturbation in eV: \",(h2-h1)/9.6e4)\n",
    "print(\"perturbation avg from C*3 and N in eV: \",np.average([E_0_c, E_0_o,E_0_n]))"
   ]
  },
  {
   "cell_type": "markdown",
   "id": "fecd0f7a",
   "metadata": {},
   "source": [
    "## load the cantera file and ensure that perturbation for species match what we expect"
   ]
  },
  {
   "cell_type": "code",
   "execution_count": 216,
   "id": "f2a2bb65",
   "metadata": {},
   "outputs": [],
   "source": [
    "cantera_file = f\"/scratch/westgroup/methanol/perturb_5000_correllated/run_{perturb}/cantera/chem_annotated.cti\"\n",
    "gas = ct.Solution(cantera_file)\n",
    "surf = ct.Interface(cantera_file, \"surface1\", [gas])"
   ]
  },
  {
   "cell_type": "markdown",
   "id": "97aed43b",
   "metadata": {},
   "source": [
    "enthalpies are in j/kmol in cantera, multiply by kmol/1e3 mol and divide by 9.6e4 J/eV"
   ]
  },
  {
   "cell_type": "code",
   "execution_count": 217,
   "id": "0a824fec",
   "metadata": {},
   "outputs": [
    {
     "data": {
      "image/png": "[encoded data removed]",
      "text/plain": [
       "<IPython.core.display.Image object>"
      ]
     },
     "metadata": {},
     "output_type": "display_data"
    },
    {
     "name": "stdout",
     "output_type": "stream",
     "text": [
      "perturbation in eV:  -0.4906320454502888\n"
     ]
    }
   ],
   "source": [
    "species = \"OH_ads\"\n",
    "file = species + \".png\"\n",
    "thermo.entries[species].item.draw(file)\n",
    "display((Image(filename=file)))\n",
    "\n",
    "h1 = thermo_pt_base.entries[species].data.get_enthalpy(298)/9.6e4\n",
    "h2 = surf.species(\"OH*(12)\").thermo.h(298)/1e3/9.6e4\n",
    "\n",
    "print(\"perturbation in eV: \",(h2-h1))"
   ]
  },
  {
   "cell_type": "code",
   "execution_count": null,
   "id": "d92bbe38",
   "metadata": {},
   "outputs": [],
   "source": [
    "BE_o_pt = -3.81153\n",
    "Be_o_cu = -4.20764\n"
   ]
  },
  {
   "cell_type": "code",
   "execution_count": 226,
   "id": "56eec28b",
   "metadata": {},
   "outputs": [
    {
     "data": {
      "image/png": "[encoded data removed]",
      "text/plain": [
       "<IPython.core.display.Image object>"
      ]
     },
     "metadata": {},
     "output_type": "display_data"
    },
    {
     "name": "stdout",
     "output_type": "stream",
     "text": [
      "perturbation in eV:  -0.6896849306244632\n"
     ]
    },
    {
     "data": {
      "text/plain": [
       "-2.1531265752309356"
      ]
     },
     "execution_count": 226,
     "metadata": {},
     "output_type": "execute_result"
    }
   ],
   "source": [
    "species = \"O_ads\"\n",
    "file = species + \".png\"\n",
    "thermo.entries[species].item.draw(file)\n",
    "display((Image(filename=file)))\n",
    "\n",
    "h1 = thermo_pt_base.entries[species].data.get_enthalpy(298)/9.6e4\n",
    "h2 = surf.species(\"O*(11)\").thermo.h(298)/1e3/9.6e4\n",
    "\n",
    "print(\"perturbation in eV: \",(h2-h1))\n",
    "h2"
   ]
  },
  {
   "cell_type": "code",
   "execution_count": 219,
   "id": "f97cbfc8",
   "metadata": {},
   "outputs": [
    {
     "data": {
      "image/png": "[encoded data removed]",
      "text/plain": [
       "<IPython.core.display.Image object>"
      ]
     },
     "metadata": {},
     "output_type": "display_data"
    },
    {
     "name": "stdout",
     "output_type": "stream",
     "text": [
      "original in eV:  -2.7443305972034606\n",
      "final in eV:     -2.6042507092028155\n",
      "perturbation in eV:  0.14007988800064508\n"
     ]
    }
   ],
   "source": [
    "species = \"H2O_ads\"\n",
    "file = species + \".png\"\n",
    "thermo.entries[species].item.draw(file)\n",
    "display((Image(filename=file)))\n",
    "\n",
    "h1 = thermo_pt_base.entries[species].data.get_enthalpy(298)/9.6e4\n",
    "h2 = surf.species(\"H2O*(13)\").thermo.h(298)/1e3/9.6e4\n",
    "\n",
    "print(\"original in eV: \",h1)\n",
    "print(\"final in eV:    \",h2)\n",
    "print(\"perturbation in eV: \",(h2-h1))"
   ]
  },
  {
   "cell_type": "code",
   "execution_count": 220,
   "id": "b416cbd2",
   "metadata": {},
   "outputs": [
    {
     "data": {
      "image/png": "[encoded data removed]",
      "text/plain": [
       "<IPython.core.display.Image object>"
      ]
     },
     "metadata": {},
     "output_type": "display_data"
    },
    {
     "name": "stdout",
     "output_type": "stream",
     "text": [
      "original in eV:  -4.048153380761086\n",
      "final in eV:     -3.908074920091563\n",
      "perturbation in eV:  0.1400784606695229\n"
     ]
    }
   ],
   "source": [
    "species = \"CO2_ads\"\n",
    "file = species + \".png\"\n",
    "thermo.entries[species].item.draw(file)\n",
    "display((Image(filename=file)))\n",
    "\n",
    "h1 = thermo_pt_base.entries[species].data.get_enthalpy(298)/9.6e4\n",
    "h2 = surf.species(\"CO2*(15)\").thermo.h(298)/1e3/9.6e4\n",
    "\n",
    "print(\"original in eV: \",h1)\n",
    "print(\"final in eV:    \",h2)\n",
    "print(\"perturbation in eV: \",(h2-h1))"
   ]
  },
  {
   "cell_type": "code",
   "execution_count": 221,
   "id": "e910871d",
   "metadata": {},
   "outputs": [
    {
     "data": {
      "text/plain": [
       "0.14007698567708332"
      ]
     },
     "execution_count": 221,
     "metadata": {},
     "output_type": "execute_result"
    }
   ],
   "source": [
    "E_0_vdw"
   ]
  },
  {
   "cell_type": "code",
   "execution_count": 134,
   "id": "91465951",
   "metadata": {},
   "outputs": [
    {
     "data": {
      "text/plain": [
       "['X(1)',\n",
       " 'H*(10)',\n",
       " 'O*(11)',\n",
       " 'OH*(12)',\n",
       " 'H2O*(13)',\n",
       " 'CO*(14)',\n",
       " 'CO2*(15)',\n",
       " 'HCO*(16)',\n",
       " 'HCOO*(17)',\n",
       " 'COOH*(18)',\n",
       " 'HCOOH*(19)',\n",
       " 'CH2O*(20)',\n",
       " 'CH3O*(21)',\n",
       " 'CH3O2*(22)',\n",
       " 'CH3OH*(23)',\n",
       " 'H2X(25)']"
      ]
     },
     "execution_count": 134,
     "metadata": {},
     "output_type": "execute_result"
    }
   ],
   "source": [
    "surf.species_names"
   ]
  },
  {
   "cell_type": "code",
   "execution_count": null,
   "id": "492d08ed",
   "metadata": {},
   "outputs": [],
   "source": []
  }
 ],
 "metadata": {
  "kernelspec": {
   "display_name": "rmg_julia_env",
   "language": "python",
   "name": "rmg_julia_env"
  },
  "language_info": {
   "codemirror_mode": {
    "name": "ipython",
    "version": 3
   },
   "file_extension": ".py",
   "mimetype": "text/x-python",
   "name": "python",
   "nbconvert_exporter": "python",
   "pygments_lexer": "ipython3",
   "version": "3.7.11"
  }
 },
 "nbformat": 4,
 "nbformat_minor": 5
}
