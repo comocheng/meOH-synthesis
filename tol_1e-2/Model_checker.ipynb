{
 "cells": [
  {
   "cell_type": "code",
   "execution_count": 10,
   "metadata": {},
   "outputs": [],
   "source": [
    "from rmgpy.molecule import Molecule\n",
    "from rmgpy.species import Species"
   ]
  },
  {
   "cell_type": "code",
   "execution_count": 18,
   "metadata": {},
   "outputs": [],
   "source": [
    "spec = Molecule().from_smiles('*O*')"
   ]
  },
  {
   "cell_type": "code",
   "execution_count": null,
   "metadata": {},
   "outputs": [],
   "source": [
    "\n",
    "# rmgpy.exceptions.UndeterminableKineticsError:\n",
    "# (TemplateReaction(\n",
    "# \treactants=[Molecule(smiles=\"[CH]=O.[Pt]\"),Molecule(smiles=\"[Pt]O[Pt]\")],\n",
    "# \tproducts=[Molecule(smiles=\"[Pt]\"), Molecule(smiles=\"[Pt]O[CH]O[Pt]\")],\n",
    "# \tpairs=[[Molecule(smiles=\"[CH]=O.[Pt]\"),Molecule(smiles=\"[Pt]O[CH]O[Pt]\")], \n",
    "#            [Molecule(smiles=\"[Pt]O[Pt]\"), Molecule(smiles=\"[Pt]O[CH]O[Pt]\")]], \n",
    "#     family='Surface_Addition_Single_vdW'), \n",
    " \n",
    "# 'Kinetics could not be determined. Unable to find matching template for reaction <Molecule \"[CH]=O.[Pt]\"> + \n",
    "# <Molecule \"[Pt]O[Pt]\"> <=> <Molecule \"[Pt]\"> + <Molecule \"[Pt]O[CH]O[Pt]\"> in reaction family \n",
    "# <KineticsGroups \"Surface_Addition_Single_vdW/groups\">. Trying to match [<Entry index=1 label=\"AdsorbateVdW\">, \n",
    "# <Entry index=2 label=\"Adsorbate1\">] but matched [<Entry index=4 label=\"O*\">]')\n",
    " \n",
    "# [CH]=O.[*] + [*]O[*] <=> [*] +[*]O[CH]O[*]\n"
   ]
  }
 ],
 "metadata": {
  "kernelspec": {
   "display_name": "rmg_env",
   "language": "python",
   "name": "rmg_env"
  },
  "language_info": {
   "codemirror_mode": {
    "name": "ipython",
    "version": 3
   },
   "file_extension": ".py",
   "mimetype": "text/x-python",
   "name": "python",
   "nbconvert_exporter": "python",
   "pygments_lexer": "ipython3",
   "version": "3.7.7"
  }
 },
 "nbformat": 4,
 "nbformat_minor": 2
}
